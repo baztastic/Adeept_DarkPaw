{
 "cells": [
  {
   "cell_type": "code",
   "execution_count": 1,
   "metadata": {},
   "outputs": [],
   "source": [
    "import sys\n",
    "from servo import *\n",
    "from LED import *\n",
    "from switch import *\n",
    "\n",
    "speed = 20.0\n",
    "step = 1/speed # seconds\n",
    "smooth = 10\n",
    "\n",
    "lo = 150\n",
    "md = 300\n",
    "hi = 450\n",
    "\n",
    "angle_pins = [0, 3, 6, 9]\n",
    "top_pins = [1, 4, 7, 10]\n",
    "bottom_pins = [2, 5, 8, 11]\n",
    "spare_pins = [12, 13, 14, 15]\n",
    "\n",
    "pin_dirs = [1, 1, 1, -1, -1, -1, -1, -1, -1, 1, 1, 1, 0, 0, 0, 0]\n"
   ]
  },
  {
   "cell_type": "code",
   "execution_count": 2,
   "metadata": {},
   "outputs": [],
   "source": [
    "from baz_move import move"
   ]
  },
  {
   "cell_type": "code",
   "execution_count": 80,
   "metadata": {},
   "outputs": [],
   "source": [
    "# Find true extents of the servos for my setup\n",
    "\n",
    "# move(pins, start, stop, step, smooth=5, p=False)\n",
    "# 0 left front\n",
    "# 2 right front\n",
    "# 1 left back\n",
    "# 3 right back\n",
    "extents = {\n",
    "    angle_pins[0]: [180, 520],  # forward -> backward\n",
    "    top_pins[0]: [100, 360],    # out -> in\n",
    "    bottom_pins[0]: [140, 500], # up -> down\n",
    "    angle_pins[2]: [180, 520],  # forward -> backward\n",
    "    top_pins[2]: [100, 360],    # out -> in\n",
    "    bottom_pins[2]: [140, 500], # up -> down\n",
    "}\n",
    "start = 180\n",
    "stop =  520\n",
    "pin = angle_pins[0]\n",
    "move([pin], start, stop, step, smooth, p=False)\n",
    "# time.sleep(1)\n",
    "move([pin], stop, start, step, smooth, p=False)\n"
   ]
  },
  {
   "cell_type": "code",
   "execution_count": 84,
   "metadata": {},
   "outputs": [],
   "source": [
    "# 1 step front left\n",
    "\n",
    "move([bottom_pins[0]], 500, 140, step, smooth, p=False)\n",
    "\n",
    "move([top_pins[0]], 360, 100, step, smooth, p=False)\n",
    "\n",
    "move([angle_pins[0]], 520, 180, step, smooth, p=False)\n",
    "\n",
    "move([bottom_pins[0]], 140, 500, step, smooth, p=False)\n",
    "\n",
    "move([top_pins[0]], 100, 360, step, smooth, p=False)\n",
    "\n",
    "move([angle_pins[0]], 180, 520, step, smooth, p=False)\n"
   ]
  }
 ],
 "metadata": {
  "kernelspec": {
   "display_name": "Python 3.7.3 32-bit",
   "language": "python",
   "name": "python3"
  },
  "language_info": {
   "codemirror_mode": {
    "name": "ipython",
    "version": 3
   },
   "file_extension": ".py",
   "mimetype": "text/x-python",
   "name": "python",
   "nbconvert_exporter": "python",
   "pygments_lexer": "ipython3",
   "version": "3.7.3"
  },
  "orig_nbformat": 4,
  "vscode": {
   "interpreter": {
    "hash": "31f2aee4e71d21fbe5cf8b01ff0e069b9275f58929596ceb00d14d90e3e16cd6"
   }
  }
 },
 "nbformat": 4,
 "nbformat_minor": 2
}
